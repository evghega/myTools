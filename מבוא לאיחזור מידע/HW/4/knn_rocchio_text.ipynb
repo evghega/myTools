{
  "nbformat": 4,
  "nbformat_minor": 0,
  "metadata": {
    "colab": {
      "name": "knn rocchio  text.ipynb",
      "provenance": []
    },
    "kernelspec": {
      "name": "python3",
      "display_name": "Python 3"
    }
  },
  "cells": [
    {
      "cell_type": "code",
      "metadata": {
        "id": "GYbZWGR6YZ_-"
      },
      "source": [
        "import numpy as np\r\n",
        "import scipy as sc\r\n",
        "import matplotlib.pyplot as plt\r\n",
        "#from prettyprint import pp\r\n",
        "import os, re\r\n",
        "from sklearn.feature_extraction.text import CountVectorizer, TfidfTransformer\r\n",
        "from sklearn.naive_bayes import BernoulliNB, GaussianNB, MultinomialNB\r\n",
        "from sklearn.metrics import confusion_matrix, f1_score, accuracy_score, precision_score, recall_score, classification_report\r\n",
        "from sklearn.neighbors import KNeighborsClassifier\r\n",
        "from sklearn.neighbors import NearestCentroid \r\n",
        "\r\n",
        "from sklearn.svm import LinearSVC, NuSVC, SVC\r\n",
        "#from sklearn.grid_search import GridSearchCV\r\n",
        "from datetime import datetime as dt\r\n",
        "#from ipy_table import *\r\n",
        "%matplotlib inline"
      ],
      "execution_count": 45,
      "outputs": []
    },
    {
      "cell_type": "code",
      "metadata": {
        "id": "Mpu2J5FWYoZY"
      },
      "source": [
        "root_path ='/content/drive/MyDrive/Colab Notebooks/20_newsgroup/'\r\n",
        "folders = [root_path + folder + '/' for folder in os.listdir(root_path)]\r\n",
        "\r\n",
        "\r\n",
        "#there are only 4 classes\r\n",
        "class_titles = os.listdir(root_path)\r\n",
        "\r\n",
        "\r\n",
        "#list of all the files belonging to each class\r\n",
        "files = {}\r\n",
        "for folder, title in zip(folders, class_titles):\r\n",
        "    files[title] = [folder + f for f in os.listdir(folder)]\r\n"
      ],
      "execution_count": 46,
      "outputs": []
    },
    {
      "cell_type": "code",
      "metadata": {
        "colab": {
          "base_uri": "https://localhost:8080/"
        },
        "id": "qta6QLCOmCaX",
        "outputId": "78e28ff1-4ada-40f2-a58f-08534c9ab4d8"
      },
      "source": [
        "print(class_titles)"
      ],
      "execution_count": 47,
      "outputs": [
        {
          "output_type": "stream",
          "text": [
            "['soc.religion.christian', 'comp.os.ms-windows.misc', 'sci.electronics', 'rec.sport.baseball']\n"
          ],
          "name": "stdout"
        }
      ]
    },
    {
      "cell_type": "code",
      "metadata": {
        "id": "Zlyfvu7rYrme"
      },
      "source": [
        "train_test_ratio = 0.75\r\n",
        "\r\n",
        "def train_test_split(ratio, classes, files):\r\n",
        "    \"\"\"\r\n",
        "    this method will split the input list of files to train and test sets.\r\n",
        "    *Note: currently this method uses the simplest way an array can be split in two parts.\r\n",
        "    Parameters\r\n",
        "    ----------\r\n",
        "    ratio: float\r\n",
        "           ratio of total documents in each class assigned to the training set\r\n",
        "    classes: list\r\n",
        "             list of label classes\r\n",
        "    files: dictionary\r\n",
        "           a dictionary with list of files for each class\r\n",
        "    \r\n",
        "    Returns\r\n",
        "    -------\r\n",
        "    train_dic: dictionary\r\n",
        "                a dictionary with lists of documents in the training set for each class\r\n",
        "    test_dict: dictionary\r\n",
        "                a dictionary with lists of documents in the testing set for each class\r\n",
        "    \"\"\"\r\n",
        "    train_dict = {}\r\n",
        "    test_dict = {}\r\n",
        "    for cl in classes:\r\n",
        "        train_cnt = int(ratio * len(files[cl]))\r\n",
        "        train_dict[cl] = files[cl][:train_cnt]\r\n",
        "        test_dict[cl] = files[cl][train_cnt:]\r\n",
        "    return train_dict, test_dict"
      ],
      "execution_count": 48,
      "outputs": []
    },
    {
      "cell_type": "code",
      "metadata": {
        "id": "dTX6pOFBYzqw"
      },
      "source": [
        "train_path, test_path = train_test_split(train_test_ratio, class_titles, files)\r\n"
      ],
      "execution_count": 8,
      "outputs": []
    },
    {
      "cell_type": "code",
      "metadata": {
        "colab": {
          "base_uri": "https://localhost:8080/"
        },
        "id": "3H0IP1kUp2uA",
        "outputId": "a103e302-3e56-4c80-e68b-36728472a2ce"
      },
      "source": [
        "print (train_path  )"
      ],
      "execution_count": 51,
      "outputs": [
        {
          "output_type": "stream",
          "text": [
            "{'soc.religion.christian': [], 'comp.os.ms-windows.misc': ['/content/drive/MyDrive/Colab Notebooks/20_newsgroup/comp.os.ms-windows.misc/9175', '/content/drive/MyDrive/Colab Notebooks/20_newsgroup/comp.os.ms-windows.misc/9166', '/content/drive/MyDrive/Colab Notebooks/20_newsgroup/comp.os.ms-windows.misc/9174', '/content/drive/MyDrive/Colab Notebooks/20_newsgroup/comp.os.ms-windows.misc/9169', '/content/drive/MyDrive/Colab Notebooks/20_newsgroup/comp.os.ms-windows.misc/9172', '/content/drive/MyDrive/Colab Notebooks/20_newsgroup/comp.os.ms-windows.misc/9167', '/content/drive/MyDrive/Colab Notebooks/20_newsgroup/comp.os.ms-windows.misc/9168', '/content/drive/MyDrive/Colab Notebooks/20_newsgroup/comp.os.ms-windows.misc/9173', '/content/drive/MyDrive/Colab Notebooks/20_newsgroup/comp.os.ms-windows.misc/9170', '/content/drive/MyDrive/Colab Notebooks/20_newsgroup/comp.os.ms-windows.misc/9171', '/content/drive/MyDrive/Colab Notebooks/20_newsgroup/comp.os.ms-windows.misc/9165', '/content/drive/MyDrive/Colab Notebooks/20_newsgroup/comp.os.ms-windows.misc/9164', '/content/drive/MyDrive/Colab Notebooks/20_newsgroup/comp.os.ms-windows.misc/9162', '/content/drive/MyDrive/Colab Notebooks/20_newsgroup/comp.os.ms-windows.misc/9159', '/content/drive/MyDrive/Colab Notebooks/20_newsgroup/comp.os.ms-windows.misc/9161', '/content/drive/MyDrive/Colab Notebooks/20_newsgroup/comp.os.ms-windows.misc/9157', '/content/drive/MyDrive/Colab Notebooks/20_newsgroup/comp.os.ms-windows.misc/9158', '/content/drive/MyDrive/Colab Notebooks/20_newsgroup/comp.os.ms-windows.misc/9163', '/content/drive/MyDrive/Colab Notebooks/20_newsgroup/comp.os.ms-windows.misc/9156', '/content/drive/MyDrive/Colab Notebooks/20_newsgroup/comp.os.ms-windows.misc/9160', '/content/drive/MyDrive/Colab Notebooks/20_newsgroup/comp.os.ms-windows.misc/9155', '/content/drive/MyDrive/Colab Notebooks/20_newsgroup/comp.os.ms-windows.misc/9148', '/content/drive/MyDrive/Colab Notebooks/20_newsgroup/comp.os.ms-windows.misc/9154', '/content/drive/MyDrive/Colab Notebooks/20_newsgroup/comp.os.ms-windows.misc/9149', '/content/drive/MyDrive/Colab Notebooks/20_newsgroup/comp.os.ms-windows.misc/9153', '/content/drive/MyDrive/Colab Notebooks/20_newsgroup/comp.os.ms-windows.misc/9151', '/content/drive/MyDrive/Colab Notebooks/20_newsgroup/comp.os.ms-windows.misc/9146', '/content/drive/MyDrive/Colab Notebooks/20_newsgroup/comp.os.ms-windows.misc/9150', '/content/drive/MyDrive/Colab Notebooks/20_newsgroup/comp.os.ms-windows.misc/9152', '/content/drive/MyDrive/Colab Notebooks/20_newsgroup/comp.os.ms-windows.misc/9147', '/content/drive/MyDrive/Colab Notebooks/20_newsgroup/comp.os.ms-windows.misc/9145', '/content/drive/MyDrive/Colab Notebooks/20_newsgroup/comp.os.ms-windows.misc/9140', '/content/drive/MyDrive/Colab Notebooks/20_newsgroup/comp.os.ms-windows.misc/9139', '/content/drive/MyDrive/Colab Notebooks/20_newsgroup/comp.os.ms-windows.misc/9143', '/content/drive/MyDrive/Colab Notebooks/20_newsgroup/comp.os.ms-windows.misc/9137', '/content/drive/MyDrive/Colab Notebooks/20_newsgroup/comp.os.ms-windows.misc/9144', '/content/drive/MyDrive/Colab Notebooks/20_newsgroup/comp.os.ms-windows.misc/9138', '/content/drive/MyDrive/Colab Notebooks/20_newsgroup/comp.os.ms-windows.misc/9142', '/content/drive/MyDrive/Colab Notebooks/20_newsgroup/comp.os.ms-windows.misc/9136', '/content/drive/MyDrive/Colab Notebooks/20_newsgroup/comp.os.ms-windows.misc/9141', '/content/drive/MyDrive/Colab Notebooks/20_newsgroup/comp.os.ms-windows.misc/8514', '/content/drive/MyDrive/Colab Notebooks/20_newsgroup/comp.os.ms-windows.misc/9498', '/content/drive/MyDrive/Colab Notebooks/20_newsgroup/comp.os.ms-windows.misc/9494', '/content/drive/MyDrive/Colab Notebooks/20_newsgroup/comp.os.ms-windows.misc/9491', '/content/drive/MyDrive/Colab Notebooks/20_newsgroup/comp.os.ms-windows.misc/9490', '/content/drive/MyDrive/Colab Notebooks/20_newsgroup/comp.os.ms-windows.misc/9496', '/content/drive/MyDrive/Colab Notebooks/20_newsgroup/comp.os.ms-windows.misc/9495', '/content/drive/MyDrive/Colab Notebooks/20_newsgroup/comp.os.ms-windows.misc/9493', '/content/drive/MyDrive/Colab Notebooks/20_newsgroup/comp.os.ms-windows.misc/9489', '/content/drive/MyDrive/Colab Notebooks/20_newsgroup/comp.os.ms-windows.misc/9492', '/content/drive/MyDrive/Colab Notebooks/20_newsgroup/comp.os.ms-windows.misc/9497', '/content/drive/MyDrive/Colab Notebooks/20_newsgroup/comp.os.ms-windows.misc/9488', '/content/drive/MyDrive/Colab Notebooks/20_newsgroup/comp.os.ms-windows.misc/9479', '/content/drive/MyDrive/Colab Notebooks/20_newsgroup/comp.os.ms-windows.misc/9484', '/content/drive/MyDrive/Colab Notebooks/20_newsgroup/comp.os.ms-windows.misc/9480', '/content/drive/MyDrive/Colab Notebooks/20_newsgroup/comp.os.ms-windows.misc/9482', '/content/drive/MyDrive/Colab Notebooks/20_newsgroup/comp.os.ms-windows.misc/9483', '/content/drive/MyDrive/Colab Notebooks/20_newsgroup/comp.os.ms-windows.misc/9487', '/content/drive/MyDrive/Colab Notebooks/20_newsgroup/comp.os.ms-windows.misc/9486', '/content/drive/MyDrive/Colab Notebooks/20_newsgroup/comp.os.ms-windows.misc/9485', '/content/drive/MyDrive/Colab Notebooks/20_newsgroup/comp.os.ms-windows.misc/9481', '/content/drive/MyDrive/Colab Notebooks/20_newsgroup/comp.os.ms-windows.misc/9478', '/content/drive/MyDrive/Colab Notebooks/20_newsgroup/comp.os.ms-windows.misc/9472', '/content/drive/MyDrive/Colab Notebooks/20_newsgroup/comp.os.ms-windows.misc/9474', '/content/drive/MyDrive/Colab Notebooks/20_newsgroup/comp.os.ms-windows.misc/9469', '/content/drive/MyDrive/Colab Notebooks/20_newsgroup/comp.os.ms-windows.misc/9476', '/content/drive/MyDrive/Colab Notebooks/20_newsgroup/comp.os.ms-windows.misc/9470', '/content/drive/MyDrive/Colab Notebooks/20_newsgroup/comp.os.ms-windows.misc/9477', '/content/drive/MyDrive/Colab Notebooks/20_newsgroup/comp.os.ms-windows.misc/9475', '/content/drive/MyDrive/Colab Notebooks/20_newsgroup/comp.os.ms-windows.misc/9473', '/content/drive/MyDrive/Colab Notebooks/20_newsgroup/comp.os.ms-windows.misc/9471', '/content/drive/MyDrive/Colab Notebooks/20_newsgroup/comp.os.ms-windows.misc/9468', '/content/drive/MyDrive/Colab Notebooks/20_newsgroup/comp.os.ms-windows.misc/9460', '/content/drive/MyDrive/Colab Notebooks/20_newsgroup/comp.os.ms-windows.misc/9463', '/content/drive/MyDrive/Colab Notebooks/20_newsgroup/comp.os.ms-windows.misc/9459', '/content/drive/MyDrive/Colab Notebooks/20_newsgroup/comp.os.ms-windows.misc/9462', '/content/drive/MyDrive/Colab Notebooks/20_newsgroup/comp.os.ms-windows.misc/9461', '/content/drive/MyDrive/Colab Notebooks/20_newsgroup/comp.os.ms-windows.misc/9465', '/content/drive/MyDrive/Colab Notebooks/20_newsgroup/comp.os.ms-windows.misc/9467', '/content/drive/MyDrive/Colab Notebooks/20_newsgroup/comp.os.ms-windows.misc/9464', '/content/drive/MyDrive/Colab Notebooks/20_newsgroup/comp.os.ms-windows.misc/9466', '/content/drive/MyDrive/Colab Notebooks/20_newsgroup/comp.os.ms-windows.misc/9458', '/content/drive/MyDrive/Colab Notebooks/20_newsgroup/comp.os.ms-windows.misc/9451', '/content/drive/MyDrive/Colab Notebooks/20_newsgroup/comp.os.ms-windows.misc/9457', '/content/drive/MyDrive/Colab Notebooks/20_newsgroup/comp.os.ms-windows.misc/9453', '/content/drive/MyDrive/Colab Notebooks/20_newsgroup/comp.os.ms-windows.misc/9450', '/content/drive/MyDrive/Colab Notebooks/20_newsgroup/comp.os.ms-windows.misc/9452', '/content/drive/MyDrive/Colab Notebooks/20_newsgroup/comp.os.ms-windows.misc/9176', '/content/drive/MyDrive/Colab Notebooks/20_newsgroup/comp.os.ms-windows.misc/9455', '/content/drive/MyDrive/Colab Notebooks/20_newsgroup/comp.os.ms-windows.misc/9456', '/content/drive/MyDrive/Colab Notebooks/20_newsgroup/comp.os.ms-windows.misc/9454', '/content/drive/MyDrive/Colab Notebooks/20_newsgroup/comp.os.ms-windows.misc/9548', '/content/drive/MyDrive/Colab Notebooks/20_newsgroup/comp.os.ms-windows.misc/9545', '/content/drive/MyDrive/Colab Notebooks/20_newsgroup/comp.os.ms-windows.misc/9546', '/content/drive/MyDrive/Colab Notebooks/20_newsgroup/comp.os.ms-windows.misc/9547', '/content/drive/MyDrive/Colab Notebooks/20_newsgroup/comp.os.ms-windows.misc/9544', '/content/drive/MyDrive/Colab Notebooks/20_newsgroup/comp.os.ms-windows.misc/9543', '/content/drive/MyDrive/Colab Notebooks/20_newsgroup/comp.os.ms-windows.misc/9541', '/content/drive/MyDrive/Colab Notebooks/20_newsgroup/comp.os.ms-windows.misc/9539', '/content/drive/MyDrive/Colab Notebooks/20_newsgroup/comp.os.ms-windows.misc/9542', '/content/drive/MyDrive/Colab Notebooks/20_newsgroup/comp.os.ms-windows.misc/9540', '/content/drive/MyDrive/Colab Notebooks/20_newsgroup/comp.os.ms-windows.misc/9538', '/content/drive/MyDrive/Colab Notebooks/20_newsgroup/comp.os.ms-windows.misc/9536', '/content/drive/MyDrive/Colab Notebooks/20_newsgroup/comp.os.ms-windows.misc/9532', '/content/drive/MyDrive/Colab Notebooks/20_newsgroup/comp.os.ms-windows.misc/9533', '/content/drive/MyDrive/Colab Notebooks/20_newsgroup/comp.os.ms-windows.misc/9530', '/content/drive/MyDrive/Colab Notebooks/20_newsgroup/comp.os.ms-windows.misc/9537', '/content/drive/MyDrive/Colab Notebooks/20_newsgroup/comp.os.ms-windows.misc/9529', '/content/drive/MyDrive/Colab Notebooks/20_newsgroup/comp.os.ms-windows.misc/9534', '/content/drive/MyDrive/Colab Notebooks/20_newsgroup/comp.os.ms-windows.misc/9535', '/content/drive/MyDrive/Colab Notebooks/20_newsgroup/comp.os.ms-windows.misc/9531', '/content/drive/MyDrive/Colab Notebooks/20_newsgroup/comp.os.ms-windows.misc/9528', '/content/drive/MyDrive/Colab Notebooks/20_newsgroup/comp.os.ms-windows.misc/9519', '/content/drive/MyDrive/Colab Notebooks/20_newsgroup/comp.os.ms-windows.misc/9527', '/content/drive/MyDrive/Colab Notebooks/20_newsgroup/comp.os.ms-windows.misc/9520', '/content/drive/MyDrive/Colab Notebooks/20_newsgroup/comp.os.ms-windows.misc/9521', '/content/drive/MyDrive/Colab Notebooks/20_newsgroup/comp.os.ms-windows.misc/9524', '/content/drive/MyDrive/Colab Notebooks/20_newsgroup/comp.os.ms-windows.misc/9525', '/content/drive/MyDrive/Colab Notebooks/20_newsgroup/comp.os.ms-windows.misc/9526', '/content/drive/MyDrive/Colab Notebooks/20_newsgroup/comp.os.ms-windows.misc/9522', '/content/drive/MyDrive/Colab Notebooks/20_newsgroup/comp.os.ms-windows.misc/9523', '/content/drive/MyDrive/Colab Notebooks/20_newsgroup/comp.os.ms-windows.misc/9518', '/content/drive/MyDrive/Colab Notebooks/20_newsgroup/comp.os.ms-windows.misc/9516', '/content/drive/MyDrive/Colab Notebooks/20_newsgroup/comp.os.ms-windows.misc/9509', '/content/drive/MyDrive/Colab Notebooks/20_newsgroup/comp.os.ms-windows.misc/9512', '/content/drive/MyDrive/Colab Notebooks/20_newsgroup/comp.os.ms-windows.misc/9513', '/content/drive/MyDrive/Colab Notebooks/20_newsgroup/comp.os.ms-windows.misc/9511', '/content/drive/MyDrive/Colab Notebooks/20_newsgroup/comp.os.ms-windows.misc/9514', '/content/drive/MyDrive/Colab Notebooks/20_newsgroup/comp.os.ms-windows.misc/9517', '/content/drive/MyDrive/Colab Notebooks/20_newsgroup/comp.os.ms-windows.misc/9510', '/content/drive/MyDrive/Colab Notebooks/20_newsgroup/comp.os.ms-windows.misc/9515', '/content/drive/MyDrive/Colab Notebooks/20_newsgroup/comp.os.ms-windows.misc/9508', '/content/drive/MyDrive/Colab Notebooks/20_newsgroup/comp.os.ms-windows.misc/9503', '/content/drive/MyDrive/Colab Notebooks/20_newsgroup/comp.os.ms-windows.misc/9502', '/content/drive/MyDrive/Colab Notebooks/20_newsgroup/comp.os.ms-windows.misc/9506', '/content/drive/MyDrive/Colab Notebooks/20_newsgroup/comp.os.ms-windows.misc/9499', '/content/drive/MyDrive/Colab Notebooks/20_newsgroup/comp.os.ms-windows.misc/9500', '/content/drive/MyDrive/Colab Notebooks/20_newsgroup/comp.os.ms-windows.misc/9507', '/content/drive/MyDrive/Colab Notebooks/20_newsgroup/comp.os.ms-windows.misc/9504', '/content/drive/MyDrive/Colab Notebooks/20_newsgroup/comp.os.ms-windows.misc/9505', '/content/drive/MyDrive/Colab Notebooks/20_newsgroup/comp.os.ms-windows.misc/9501', '/content/drive/MyDrive/Colab Notebooks/20_newsgroup/comp.os.ms-windows.misc/9598', '/content/drive/MyDrive/Colab Notebooks/20_newsgroup/comp.os.ms-windows.misc/9593', '/content/drive/MyDrive/Colab Notebooks/20_newsgroup/comp.os.ms-windows.misc/9590', '/content/drive/MyDrive/Colab Notebooks/20_newsgroup/comp.os.ms-windows.misc/9595', '/content/drive/MyDrive/Colab Notebooks/20_newsgroup/comp.os.ms-windows.misc/9592', '/content/drive/MyDrive/Colab Notebooks/20_newsgroup/comp.os.ms-windows.misc/9596', '/content/drive/MyDrive/Colab Notebooks/20_newsgroup/comp.os.ms-windows.misc/9591', '/content/drive/MyDrive/Colab Notebooks/20_newsgroup/comp.os.ms-windows.misc/9589', '/content/drive/MyDrive/Colab Notebooks/20_newsgroup/comp.os.ms-windows.misc/9597'], 'sci.electronics': [], 'rec.sport.baseball': ['/content/drive/MyDrive/Colab Notebooks/20_newsgroup/rec.sport.baseball/102621', '/content/drive/MyDrive/Colab Notebooks/20_newsgroup/rec.sport.baseball/102617', '/content/drive/MyDrive/Colab Notebooks/20_newsgroup/rec.sport.baseball/102612', '/content/drive/MyDrive/Colab Notebooks/20_newsgroup/rec.sport.baseball/102618', '/content/drive/MyDrive/Colab Notebooks/20_newsgroup/rec.sport.baseball/102619', '/content/drive/MyDrive/Colab Notebooks/20_newsgroup/rec.sport.baseball/102615', '/content/drive/MyDrive/Colab Notebooks/20_newsgroup/rec.sport.baseball/102616', '/content/drive/MyDrive/Colab Notebooks/20_newsgroup/rec.sport.baseball/102620', '/content/drive/MyDrive/Colab Notebooks/20_newsgroup/rec.sport.baseball/102614', '/content/drive/MyDrive/Colab Notebooks/20_newsgroup/rec.sport.baseball/102613', '/content/drive/MyDrive/Colab Notebooks/20_newsgroup/rec.sport.baseball/102611', '/content/drive/MyDrive/Colab Notebooks/20_newsgroup/rec.sport.baseball/102610', '/content/drive/MyDrive/Colab Notebooks/20_newsgroup/rec.sport.baseball/102608', '/content/drive/MyDrive/Colab Notebooks/20_newsgroup/rec.sport.baseball/102606', '/content/drive/MyDrive/Colab Notebooks/20_newsgroup/rec.sport.baseball/102605', '/content/drive/MyDrive/Colab Notebooks/20_newsgroup/rec.sport.baseball/102607', '/content/drive/MyDrive/Colab Notebooks/20_newsgroup/rec.sport.baseball/102603', '/content/drive/MyDrive/Colab Notebooks/20_newsgroup/rec.sport.baseball/102602', '/content/drive/MyDrive/Colab Notebooks/20_newsgroup/rec.sport.baseball/102604', '/content/drive/MyDrive/Colab Notebooks/20_newsgroup/rec.sport.baseball/102609', '/content/drive/MyDrive/Colab Notebooks/20_newsgroup/rec.sport.baseball/102601', '/content/drive/MyDrive/Colab Notebooks/20_newsgroup/rec.sport.baseball/102592', '/content/drive/MyDrive/Colab Notebooks/20_newsgroup/rec.sport.baseball/102598', '/content/drive/MyDrive/Colab Notebooks/20_newsgroup/rec.sport.baseball/102597', '/content/drive/MyDrive/Colab Notebooks/20_newsgroup/rec.sport.baseball/102595', '/content/drive/MyDrive/Colab Notebooks/20_newsgroup/rec.sport.baseball/102600', '/content/drive/MyDrive/Colab Notebooks/20_newsgroup/rec.sport.baseball/102593', '/content/drive/MyDrive/Colab Notebooks/20_newsgroup/rec.sport.baseball/102596', '/content/drive/MyDrive/Colab Notebooks/20_newsgroup/rec.sport.baseball/102594', '/content/drive/MyDrive/Colab Notebooks/20_newsgroup/rec.sport.baseball/102599', '/content/drive/MyDrive/Colab Notebooks/20_newsgroup/rec.sport.baseball/102591', '/content/drive/MyDrive/Colab Notebooks/20_newsgroup/rec.sport.baseball/102584', '/content/drive/MyDrive/Colab Notebooks/20_newsgroup/rec.sport.baseball/102588', '/content/drive/MyDrive/Colab Notebooks/20_newsgroup/rec.sport.baseball/102151', '/content/drive/MyDrive/Colab Notebooks/20_newsgroup/rec.sport.baseball/102587', '/content/drive/MyDrive/Colab Notebooks/20_newsgroup/rec.sport.baseball/102590', '/content/drive/MyDrive/Colab Notebooks/20_newsgroup/rec.sport.baseball/102586', '/content/drive/MyDrive/Colab Notebooks/20_newsgroup/rec.sport.baseball/102589', '/content/drive/MyDrive/Colab Notebooks/20_newsgroup/rec.sport.baseball/101666', '/content/drive/MyDrive/Colab Notebooks/20_newsgroup/rec.sport.baseball/102585', '/content/drive/MyDrive/Colab Notebooks/20_newsgroup/rec.sport.baseball/100521', '/content/drive/MyDrive/Colab Notebooks/20_newsgroup/rec.sport.baseball/102671', '/content/drive/MyDrive/Colab Notebooks/20_newsgroup/rec.sport.baseball/102669', '/content/drive/MyDrive/Colab Notebooks/20_newsgroup/rec.sport.baseball/102666', '/content/drive/MyDrive/Colab Notebooks/20_newsgroup/rec.sport.baseball/102665', '/content/drive/MyDrive/Colab Notebooks/20_newsgroup/rec.sport.baseball/102668', '/content/drive/MyDrive/Colab Notebooks/20_newsgroup/rec.sport.baseball/102663', '/content/drive/MyDrive/Colab Notebooks/20_newsgroup/rec.sport.baseball/102670', '/content/drive/MyDrive/Colab Notebooks/20_newsgroup/rec.sport.baseball/102664', '/content/drive/MyDrive/Colab Notebooks/20_newsgroup/rec.sport.baseball/102667', '/content/drive/MyDrive/Colab Notebooks/20_newsgroup/rec.sport.baseball/102662', '/content/drive/MyDrive/Colab Notebooks/20_newsgroup/rec.sport.baseball/102661', '/content/drive/MyDrive/Colab Notebooks/20_newsgroup/rec.sport.baseball/102656', '/content/drive/MyDrive/Colab Notebooks/20_newsgroup/rec.sport.baseball/102655', '/content/drive/MyDrive/Colab Notebooks/20_newsgroup/rec.sport.baseball/102654', '/content/drive/MyDrive/Colab Notebooks/20_newsgroup/rec.sport.baseball/102653', '/content/drive/MyDrive/Colab Notebooks/20_newsgroup/rec.sport.baseball/102660', '/content/drive/MyDrive/Colab Notebooks/20_newsgroup/rec.sport.baseball/102657', '/content/drive/MyDrive/Colab Notebooks/20_newsgroup/rec.sport.baseball/102659', '/content/drive/MyDrive/Colab Notebooks/20_newsgroup/rec.sport.baseball/102652', '/content/drive/MyDrive/Colab Notebooks/20_newsgroup/rec.sport.baseball/102658', '/content/drive/MyDrive/Colab Notebooks/20_newsgroup/rec.sport.baseball/102651', '/content/drive/MyDrive/Colab Notebooks/20_newsgroup/rec.sport.baseball/102648', '/content/drive/MyDrive/Colab Notebooks/20_newsgroup/rec.sport.baseball/102642', '/content/drive/MyDrive/Colab Notebooks/20_newsgroup/rec.sport.baseball/102643', '/content/drive/MyDrive/Colab Notebooks/20_newsgroup/rec.sport.baseball/102646', '/content/drive/MyDrive/Colab Notebooks/20_newsgroup/rec.sport.baseball/102647', '/content/drive/MyDrive/Colab Notebooks/20_newsgroup/rec.sport.baseball/102649', '/content/drive/MyDrive/Colab Notebooks/20_newsgroup/rec.sport.baseball/102650', '/content/drive/MyDrive/Colab Notebooks/20_newsgroup/rec.sport.baseball/102645', '/content/drive/MyDrive/Colab Notebooks/20_newsgroup/rec.sport.baseball/102644', '/content/drive/MyDrive/Colab Notebooks/20_newsgroup/rec.sport.baseball/102641', '/content/drive/MyDrive/Colab Notebooks/20_newsgroup/rec.sport.baseball/102637', '/content/drive/MyDrive/Colab Notebooks/20_newsgroup/rec.sport.baseball/102638', '/content/drive/MyDrive/Colab Notebooks/20_newsgroup/rec.sport.baseball/102632', '/content/drive/MyDrive/Colab Notebooks/20_newsgroup/rec.sport.baseball/102640', '/content/drive/MyDrive/Colab Notebooks/20_newsgroup/rec.sport.baseball/102636', '/content/drive/MyDrive/Colab Notebooks/20_newsgroup/rec.sport.baseball/102633', '/content/drive/MyDrive/Colab Notebooks/20_newsgroup/rec.sport.baseball/102634', '/content/drive/MyDrive/Colab Notebooks/20_newsgroup/rec.sport.baseball/102639', '/content/drive/MyDrive/Colab Notebooks/20_newsgroup/rec.sport.baseball/102635', '/content/drive/MyDrive/Colab Notebooks/20_newsgroup/rec.sport.baseball/102631', '/content/drive/MyDrive/Colab Notebooks/20_newsgroup/rec.sport.baseball/102627', '/content/drive/MyDrive/Colab Notebooks/20_newsgroup/rec.sport.baseball/102622', '/content/drive/MyDrive/Colab Notebooks/20_newsgroup/rec.sport.baseball/102630', '/content/drive/MyDrive/Colab Notebooks/20_newsgroup/rec.sport.baseball/102626', '/content/drive/MyDrive/Colab Notebooks/20_newsgroup/rec.sport.baseball/102628', '/content/drive/MyDrive/Colab Notebooks/20_newsgroup/rec.sport.baseball/102625', '/content/drive/MyDrive/Colab Notebooks/20_newsgroup/rec.sport.baseball/102623', '/content/drive/MyDrive/Colab Notebooks/20_newsgroup/rec.sport.baseball/102629', '/content/drive/MyDrive/Colab Notebooks/20_newsgroup/rec.sport.baseball/102624', '/content/drive/MyDrive/Colab Notebooks/20_newsgroup/rec.sport.baseball/102721', '/content/drive/MyDrive/Colab Notebooks/20_newsgroup/rec.sport.baseball/102719', '/content/drive/MyDrive/Colab Notebooks/20_newsgroup/rec.sport.baseball/102720', '/content/drive/MyDrive/Colab Notebooks/20_newsgroup/rec.sport.baseball/102713', '/content/drive/MyDrive/Colab Notebooks/20_newsgroup/rec.sport.baseball/102712', '/content/drive/MyDrive/Colab Notebooks/20_newsgroup/rec.sport.baseball/102714', '/content/drive/MyDrive/Colab Notebooks/20_newsgroup/rec.sport.baseball/102716', '/content/drive/MyDrive/Colab Notebooks/20_newsgroup/rec.sport.baseball/102718', '/content/drive/MyDrive/Colab Notebooks/20_newsgroup/rec.sport.baseball/102715', '/content/drive/MyDrive/Colab Notebooks/20_newsgroup/rec.sport.baseball/102717', '/content/drive/MyDrive/Colab Notebooks/20_newsgroup/rec.sport.baseball/102711', '/content/drive/MyDrive/Colab Notebooks/20_newsgroup/rec.sport.baseball/102703', '/content/drive/MyDrive/Colab Notebooks/20_newsgroup/rec.sport.baseball/102710', '/content/drive/MyDrive/Colab Notebooks/20_newsgroup/rec.sport.baseball/102706', '/content/drive/MyDrive/Colab Notebooks/20_newsgroup/rec.sport.baseball/102705', '/content/drive/MyDrive/Colab Notebooks/20_newsgroup/rec.sport.baseball/102702', '/content/drive/MyDrive/Colab Notebooks/20_newsgroup/rec.sport.baseball/102707', '/content/drive/MyDrive/Colab Notebooks/20_newsgroup/rec.sport.baseball/102708', '/content/drive/MyDrive/Colab Notebooks/20_newsgroup/rec.sport.baseball/102704', '/content/drive/MyDrive/Colab Notebooks/20_newsgroup/rec.sport.baseball/102709', '/content/drive/MyDrive/Colab Notebooks/20_newsgroup/rec.sport.baseball/102701', '/content/drive/MyDrive/Colab Notebooks/20_newsgroup/rec.sport.baseball/102695', '/content/drive/MyDrive/Colab Notebooks/20_newsgroup/rec.sport.baseball/102697', '/content/drive/MyDrive/Colab Notebooks/20_newsgroup/rec.sport.baseball/102692', '/content/drive/MyDrive/Colab Notebooks/20_newsgroup/rec.sport.baseball/102700', '/content/drive/MyDrive/Colab Notebooks/20_newsgroup/rec.sport.baseball/102698', '/content/drive/MyDrive/Colab Notebooks/20_newsgroup/rec.sport.baseball/102693', '/content/drive/MyDrive/Colab Notebooks/20_newsgroup/rec.sport.baseball/102694', '/content/drive/MyDrive/Colab Notebooks/20_newsgroup/rec.sport.baseball/102696', '/content/drive/MyDrive/Colab Notebooks/20_newsgroup/rec.sport.baseball/102699', '/content/drive/MyDrive/Colab Notebooks/20_newsgroup/rec.sport.baseball/102691', '/content/drive/MyDrive/Colab Notebooks/20_newsgroup/rec.sport.baseball/102689', '/content/drive/MyDrive/Colab Notebooks/20_newsgroup/rec.sport.baseball/102682', '/content/drive/MyDrive/Colab Notebooks/20_newsgroup/rec.sport.baseball/102690', '/content/drive/MyDrive/Colab Notebooks/20_newsgroup/rec.sport.baseball/102686', '/content/drive/MyDrive/Colab Notebooks/20_newsgroup/rec.sport.baseball/102683', '/content/drive/MyDrive/Colab Notebooks/20_newsgroup/rec.sport.baseball/102688', '/content/drive/MyDrive/Colab Notebooks/20_newsgroup/rec.sport.baseball/102685', '/content/drive/MyDrive/Colab Notebooks/20_newsgroup/rec.sport.baseball/102687', '/content/drive/MyDrive/Colab Notebooks/20_newsgroup/rec.sport.baseball/102684', '/content/drive/MyDrive/Colab Notebooks/20_newsgroup/rec.sport.baseball/102681', '/content/drive/MyDrive/Colab Notebooks/20_newsgroup/rec.sport.baseball/102680', '/content/drive/MyDrive/Colab Notebooks/20_newsgroup/rec.sport.baseball/102679', '/content/drive/MyDrive/Colab Notebooks/20_newsgroup/rec.sport.baseball/102677', '/content/drive/MyDrive/Colab Notebooks/20_newsgroup/rec.sport.baseball/102672', '/content/drive/MyDrive/Colab Notebooks/20_newsgroup/rec.sport.baseball/102676', '/content/drive/MyDrive/Colab Notebooks/20_newsgroup/rec.sport.baseball/102678', '/content/drive/MyDrive/Colab Notebooks/20_newsgroup/rec.sport.baseball/102673', '/content/drive/MyDrive/Colab Notebooks/20_newsgroup/rec.sport.baseball/102674', '/content/drive/MyDrive/Colab Notebooks/20_newsgroup/rec.sport.baseball/102675', '/content/drive/MyDrive/Colab Notebooks/20_newsgroup/rec.sport.baseball/102727', '/content/drive/MyDrive/Colab Notebooks/20_newsgroup/rec.sport.baseball/102860']}\n"
          ],
          "name": "stdout"
        }
      ]
    },
    {
      "cell_type": "code",
      "metadata": {
        "id": "uetv38ETdD8e"
      },
      "source": [
        "pattern = re.compile(r'([a-zA-Z]+|[0-9]+(\\.[0-9]+)?)')\r\n",
        "\r\n",
        "def cleanupText(path):\r\n",
        "    \"\"\"\r\n",
        "    this method will read in a text file and try to cleanup its text.\r\n",
        "    \r\n",
        "    Parameters\r\n",
        "    ----------\r\n",
        "    path: str\r\n",
        "          path to the document file\r\n",
        "    Returns\r\n",
        "    -------\r\n",
        "    text_translated: str\r\n",
        "                     cleaned up version of the raw text in the input file\r\n",
        "    \"\"\"\r\n",
        "    from string import punctuation, digits\r\n",
        "    text_translated = ''\r\n",
        "    try:\r\n",
        "        f = open(path)\r\n",
        "        raw = f.read().lower()\r\n",
        "        text = pattern.sub(r' \\1 ', raw.replace('\\n', ' '))\r\n",
        "        tr=text.maketrans(\" \",\" \",punctuation + digits)\r\n",
        "        text_translated = text.translate(tr)\r\n",
        "        text_translated = ' '.join([word for word in text_translated.split(' ') if (word and len(word) > 1)])\r\n",
        "    finally:\r\n",
        "        f.close()\r\n",
        "    return text_translated"
      ],
      "execution_count": 55,
      "outputs": []
    },
    {
      "cell_type": "code",
      "metadata": {
        "colab": {
          "base_uri": "https://localhost:8080/"
        },
        "id": "YsBEQrF_dEV0",
        "outputId": "3661a5e8-81d8-4064-e28c-9224052450bd"
      },
      "source": [
        "train_arr = []\r\n",
        "test_arr = []\r\n",
        "train_lbl = []\r\n",
        "test_lbl = []\r\n",
        "for cl in class_titles:\r\n",
        "    for path in train_path[cl]:\r\n",
        "        train_arr.append(cleanupText(path))\r\n",
        "        train_lbl.append(cl)\r\n",
        "    for path in test_path[cl]:\r\n",
        "        test_arr.append(cleanupText(path))\r\n",
        "        test_lbl.append(cl)\r\n",
        "        \r\n",
        "print (len(train_arr))\r\n",
        "print (len(test_arr))"
      ],
      "execution_count": 56,
      "outputs": [
        {
          "output_type": "stream",
          "text": [
            "293\n",
            "98\n"
          ],
          "name": "stdout"
        }
      ]
    },
    {
      "cell_type": "code",
      "metadata": {
        "colab": {
          "base_uri": "https://localhost:8080/"
        },
        "id": "xVYGp6l5dEvU",
        "outputId": "2393afc6-00f8-409d-ad55-c3e5640ec2bc"
      },
      "source": [
        "vectorizer = CountVectorizer()\r\n",
        "vectorizer.fit(train_arr)\r\n",
        "train_mat = vectorizer.transform(train_arr)\r\n",
        "print (train_mat.shape)\r\n",
        "test_mat = vectorizer.transform(test_arr)\r\n",
        "print (test_mat.shape)\r\n"
      ],
      "execution_count": 57,
      "outputs": [
        {
          "output_type": "stream",
          "text": [
            "(293, 13670)\n",
            "(98, 13670)\n"
          ],
          "name": "stdout"
        }
      ]
    },
    {
      "cell_type": "code",
      "metadata": {
        "colab": {
          "base_uri": "https://localhost:8080/"
        },
        "id": "sLIfsvqVdFDM",
        "outputId": "d48bb95b-cfa5-4630-e9b1-452a6d6ea125"
      },
      "source": [
        "tfidf = TfidfTransformer()\r\n",
        "tfidf.fit(train_mat)\r\n",
        "train_tfmat = tfidf.transform(train_mat)\r\n",
        "print (train_tfmat.shape)\r\n",
        "test_tfmat = tfidf.transform(test_mat)\r\n",
        "print (test_tfmat.shape)"
      ],
      "execution_count": 27,
      "outputs": [
        {
          "output_type": "stream",
          "text": [
            "(293, 13670)\n",
            "(98, 13670)\n"
          ],
          "name": "stdout"
        }
      ]
    },
    {
      "cell_type": "code",
      "metadata": {
        "id": "-6sv9uhfdFdk"
      },
      "source": [
        "def testClassifier(x_train, y_train, x_test, y_test, clf):\r\n",
        "    \"\"\"\r\n",
        "    this method will first train the classifier on the training data\r\n",
        "    and will then test the trained classifier on test data.\r\n",
        "    Finally it will report some metrics on the classifier performance.\r\n",
        "    \r\n",
        "    Parameters\r\n",
        "    ----------\r\n",
        "    x_train: np.ndarray\r\n",
        "             train data matrix\r\n",
        "    y_train: list\r\n",
        "             train data label\r\n",
        "    x_test: np.ndarray\r\n",
        "            test data matrix\r\n",
        "    y_test: list\r\n",
        "            test data label\r\n",
        "    clf: sklearn classifier object implementing fit() and predict() methods\r\n",
        "    \r\n",
        "    Returns\r\n",
        "    -------\r\n",
        "    metrics: list\r\n",
        "             [training time, testing time, recall and precision for every class, macro-averaged F1 score]\r\n",
        "    \"\"\"\r\n",
        "    metrics = []\r\n",
        "    start = dt.now()\r\n",
        "    clf.fit(x_train, y_train)\r\n",
        "    end = dt.now()\r\n",
        "    print ('training time: ', (end - start))\r\n",
        "    \r\n",
        "    # add training time to metrics\r\n",
        "    metrics.append(end-start)\r\n",
        "    \r\n",
        "    start = dt.now()\r\n",
        "    yhat = clf.predict(x_test)\r\n",
        "    end = dt.now()\r\n",
        "    print ('testing time: ', (end - start))\r\n",
        "    \r\n",
        "    # add testing time to metrics\r\n",
        "    metrics.append(end-start)\r\n",
        "    \r\n",
        "    print ('classification report: ')\r\n",
        "    print (classification_report(y_test, yhat))\r\n",
        "#    pp(classification_report(y_test, yhat))\r\n",
        "    \r\n",
        "    print ('f1 score')\r\n",
        "    print (f1_score(y_test, yhat, average='macro'))\r\n",
        "    \r\n",
        "    print ('accuracy score')\r\n",
        "    print (accuracy_score(y_test, yhat))\r\n",
        "    \r\n",
        "    precision = precision_score(y_test, yhat, average=None)\r\n",
        "    recall = recall_score(y_test, yhat, average=None)\r\n",
        "    \r\n",
        "    # add precision and recall values to metrics\r\n",
        "    for p, r in zip(precision, recall):\r\n",
        "        metrics.append(p)\r\n",
        "        metrics.append(r)\r\n",
        "    \r\n",
        "    \r\n",
        "    #add macro-averaged F1 score to metrics\r\n",
        "    metrics.append(f1_score(y_test, yhat, average='macro'))\r\n",
        "    \r\n",
        "    print ('confusion matrix:')\r\n",
        "    print (confusion_matrix(y_test, yhat))\r\n",
        "    \r\n",
        "    # plotting the confusion matrix\r\n",
        "    plt.imshow(confusion_matrix(y_test, yhat), interpolation='nearest')\r\n",
        "    plt.show()\r\n",
        "    \r\n",
        "    return metrics"
      ],
      "execution_count": 35,
      "outputs": []
    },
    {
      "cell_type": "code",
      "metadata": {
        "id": "ncZLrjv1grWT"
      },
      "source": [
        "metrics_dict = []\r\n",
        "#'name', 'metrics'\r\n"
      ],
      "execution_count": 37,
      "outputs": []
    },
    {
      "cell_type": "code",
      "metadata": {
        "colab": {
          "base_uri": "https://localhost:8080/",
          "height": 626
        },
        "id": "4DkUP-3bhAxs",
        "outputId": "5ad96567-865d-45c1-ae2d-c0d8383b41d1"
      },
      "source": [
        "# for nn in [5, 10, 15]:\r\n",
        "for nn in [15]:\r\n",
        "    print ('knn with ', nn, ' neighbors')\r\n",
        "    knn = KNeighborsClassifier(n_neighbors=nn)\r\n",
        "    knn_me = testClassifier(train_tfmat, train_lbl, test_tfmat, test_lbl, knn)\r\n",
        "    metrics_dict.append({'name':'5NN', 'metrics':knn_me})\r\n",
        "    print (' ')"
      ],
      "execution_count": 39,
      "outputs": [
        {
          "output_type": "stream",
          "text": [
            "knn with  15  neighbors\n",
            "training time:  0:00:00.002473\n",
            "testing time:  0:00:00.014130\n",
            "classification report: \n",
            "                         precision    recall  f1-score   support\n",
            "\n",
            "comp.os.ms-windows.misc       0.98      0.98      0.98        50\n",
            "     rec.sport.baseball       0.98      0.98      0.98        48\n",
            "\n",
            "               accuracy                           0.98        98\n",
            "              macro avg       0.98      0.98      0.98        98\n",
            "           weighted avg       0.98      0.98      0.98        98\n",
            "\n",
            "f1 score\n",
            "0.9795833333333333\n",
            "accuracy score\n",
            "0.9795918367346939\n",
            "confusion matrix:\n",
            "[[49  1]\n",
            " [ 1 47]]\n"
          ],
          "name": "stdout"
        },
        {
          "output_type": "display_data",
          "data": {
            "image/png": "[encoded data removed]",
            "text/plain": [
              "<Figure size 432x288 with 1 Axes>"
            ]
          },
          "metadata": {
            "tags": [],
            "needs_background": "light"
          }
        },
        {
          "output_type": "stream",
          "text": [
            " \n"
          ],
          "name": "stdout"
        }
      ]
    },
    {
      "cell_type": "code",
      "metadata": {
        "colab": {
          "base_uri": "https://localhost:8080/",
          "height": 626
        },
        "id": "uoZhzj9IhBC6",
        "outputId": "7d2c5d3b-ac9e-4229-a012-bc9866a7c21d"
      },
      "source": [
        "print ('NearestCentroid - Rocchio')\r\n",
        "model = NearestCentroid() \r\n",
        "NearestCentroid_me= testClassifier(train_tfmat, train_lbl, test_tfmat, test_lbl, model)\r\n",
        "metrics_dict.append({'name':'NearestCentroid', 'metrics':NearestCentroid_me})\r\n",
        "print (' ')\r\n"
      ],
      "execution_count": 58,
      "outputs": [
        {
          "output_type": "stream",
          "text": [
            "NearestCentroid - Rocchio\n",
            "training time:  0:00:00.010231\n",
            "testing time:  0:00:00.002099\n",
            "classification report: \n",
            "                         precision    recall  f1-score   support\n",
            "\n",
            "comp.os.ms-windows.misc       1.00      1.00      1.00        50\n",
            "     rec.sport.baseball       1.00      1.00      1.00        48\n",
            "\n",
            "               accuracy                           1.00        98\n",
            "              macro avg       1.00      1.00      1.00        98\n",
            "           weighted avg       1.00      1.00      1.00        98\n",
            "\n",
            "f1 score\n",
            "1.0\n",
            "accuracy score\n",
            "1.0\n",
            "confusion matrix:\n",
            "[[50  0]\n",
            " [ 0 48]]\n"
          ],
          "name": "stdout"
        },
        {
          "output_type": "display_data",
          "data": {
            "image/png": "[encoded data removed]",
            "text/plain": [
              "<Figure size 432x288 with 1 Axes>"
            ]
          },
          "metadata": {
            "tags": [],
            "needs_background": "light"
          }
        },
        {
          "output_type": "stream",
          "text": [
            " \n"
          ],
          "name": "stdout"
        }
      ]
    },
    {
      "cell_type": "code",
      "metadata": {
        "colab": {
          "base_uri": "https://localhost:8080/"
        },
        "id": "g2C80IJehBqD",
        "outputId": "8fdf915f-c157-4ace-adfa-e7f98164962e"
      },
      "source": [
        "print (metrics_dict)\r\n"
      ],
      "execution_count": 59,
      "outputs": [
        {
          "output_type": "stream",
          "text": [
            "[{'name': '5NN', 'metrics': [datetime.timedelta(0, 0, 1972), datetime.timedelta(0, 0, 10378), 0.8596491228070176, 0.98, 0.975609756097561, 0.8333333333333334, 0.9073821274808358]}, {'name': '5NN', 'metrics': [datetime.timedelta(0, 0, 2473), datetime.timedelta(0, 0, 14130), 0.98, 0.98, 0.9791666666666666, 0.9791666666666666, 0.9795833333333333]}, {'name': 'NearestCentroid', 'metrics': [datetime.timedelta(0, 0, 7091), datetime.timedelta(0, 0, 1637), 1.0, 1.0, 1.0, 1.0, 1.0]}, {'name': 'NearestCentroid', 'metrics': [datetime.timedelta(0, 0, 10231), datetime.timedelta(0, 0, 2099), 1.0, 1.0, 1.0, 1.0, 1.0]}]\n"
          ],
          "name": "stdout"
        }
      ]
    },
    {
      "cell_type": "code",
      "metadata": {
        "id": "v9T5XfarhB5b"
      },
      "source": [
        ""
      ],
      "execution_count": null,
      "outputs": []
    },
    {
      "cell_type": "code",
      "metadata": {
        "id": "UXEGCBaUhCKN"
      },
      "source": [
        ""
      ],
      "execution_count": null,
      "outputs": []
    },
    {
      "cell_type": "code",
      "metadata": {
        "id": "uYbg0O3ChCfL"
      },
      "source": [
        ""
      ],
      "execution_count": null,
      "outputs": []
    }
  ]
}