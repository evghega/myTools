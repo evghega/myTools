{
  "nbformat": 4,
  "nbformat_minor": 0,
  "metadata": {
    "colab": {
      "name": "Pagerank.ipynb",
      "provenance": []
    },
    "kernelspec": {
      "name": "python3",
      "display_name": "Python 3"
    }
  },
  "cells": [
    {
      "cell_type": "markdown",
      "metadata": {
        "id": "9qNSYXu7aK_k"
      },
      "source": [
        "Create an empty graph: Our first example of a graph will be an empty graph. The following little Python script uses NetworkX to create an empty graph:\r\n",
        "\r\n"
      ]
    },
    {
      "cell_type": "code",
      "metadata": {
        "id": "QVF2TFM2aFdw"
      },
      "source": [
        "import matplotlib.pyplot as plt\r\n",
        "import networkx as nx\r\n",
        "import numpy as np\r\n",
        "\r\n",
        "G=nx.DiGraph()"
      ],
      "execution_count": 1,
      "outputs": []
    },
    {
      "cell_type": "markdown",
      "metadata": {
        "id": "1Ty9xSfVaWxJ"
      },
      "source": [
        "Adding Nodes to our Graph: Now we will add some nodes to our graph. We can add a list of nodes with the method add_nodes_from():\r\n",
        "\r\n"
      ]
    },
    {
      "cell_type": "code",
      "metadata": {
        "colab": {
          "base_uri": "https://localhost:8080/"
        },
        "id": "KcPh6eRCaUUS",
        "outputId": "0ed4cf60-c855-4b3d-a23f-c589c655aa2e"
      },
      "source": [
        "# a list of nodes:\r\n",
        "pages = [\"1\",\"2\",\"3\",\"4\"]\r\n",
        "G.add_nodes_from(pages)\r\n",
        "\r\n",
        "print(\"Nodes of graph: \")\r\n",
        "print(G.nodes())\r\n",
        "print(\"Edges of graph: \")\r\n",
        "print(G.edges())"
      ],
      "execution_count": 2,
      "outputs": [
        {
          "output_type": "stream",
          "text": [
            "Nodes of graph: \n",
            "['1', '2', '3', '4']\n",
            "Edges of graph: \n",
            "[]\n"
          ],
          "name": "stdout"
        }
      ]
    },
    {
      "cell_type": "code",
      "metadata": {
        "colab": {
          "base_uri": "https://localhost:8080/",
          "height": 319
        },
        "id": "b7tckfnmafXJ",
        "outputId": "81a2351b-f0f0-4cfb-c766-94b3aab45e9c"
      },
      "source": [
        "nx.draw(G)"
      ],
      "execution_count": 3,
      "outputs": [
        {
          "output_type": "display_data",
          "data": {
            "image/png": "[encoded data removed]",
            "text/plain": [
              "<Figure size 432x288 with 1 Axes>"
            ]
          },
          "metadata": {
            "tags": []
          }
        }
      ]
    },
    {
      "cell_type": "markdown",
      "metadata": {
        "id": "t0W2rZ0_aoKA"
      },
      "source": [
        "Adding Edges to our Graph: G can also be created or increased by adding one edge at a time by the method add_edge(), which has the two nodes of the edge as the two parameters. We can add a bunch of edges as a list of edges in the form of 2 tuples.\r\n",
        "\r\n"
      ]
    },
    {
      "cell_type": "code",
      "metadata": {
        "id": "1_glZV8Mam6Y"
      },
      "source": [
        "G.add_edges_from([('1','2'), ('1','4'),('1','3'), ('4','1'),('2','3'),('2','4'),('3','1'),('4','3')])\r\n",
        "print(\"Nodes of graph: \")\r\n",
        "print(G.nodes())\r\n",
        "print(\"Edges of graph: \")\r\n",
        "print(G.edges())\r\n",
        "\r\n",
        "# The function G.out_edges('node') returns the numbers of nodes 'node' links to.\r\n",
        "\r\n",
        "print(\"Number of outward links for each node:\")\r\n",
        "for page in pages:\r\n",
        "    print([\"Page %s = %s\"% (page,str(len(G.out_edges(page))))])"
      ],
      "execution_count": null,
      "outputs": []
    },
    {
      "cell_type": "markdown",
      "metadata": {
        "id": "LguQ6EIIaxwo"
      },
      "source": [
        "We can also print the resulting graph by using matplotlib:"
      ]
    },
    {
      "cell_type": "code",
      "metadata": {
        "colab": {
          "base_uri": "https://localhost:8080/",
          "height": 319
        },
        "id": "ljLZamGca4vy",
        "outputId": "b3a02de0-e568-41a5-ab63-346c5b68eb6d"
      },
      "source": [
        "nx.draw(G, with_labels = True)\r\n",
        "plt.show() # display"
      ],
      "execution_count": 4,
      "outputs": [
        {
          "output_type": "display_data",
          "data": {
            "image/png": "[encoded data removed]",
            "text/plain": [
              "<Figure size 432x288 with 1 Axes>"
            ]
          },
          "metadata": {
            "tags": []
          }
        }
      ]
    },
    {
      "cell_type": "markdown",
      "metadata": {
        "id": "3HwRE8cabGI5"
      },
      "source": [
        "Using the link matrix we can compute the PageRank for a particular graph. The code below returns which page is most important given a link matrix."
      ]
    },
    {
      "cell_type": "code",
      "metadata": {
        "colab": {
          "base_uri": "https://localhost:8080/"
        },
        "id": "GRthaUhMbLz4",
        "outputId": "98bf28a3-c231-48c4-dbef-21d9940a72e9"
      },
      "source": [
        "def findPageRank(linkmatrix,pages):\r\n",
        "    eigval, eigvector= np.linalg.eig(linkmatrix)\r\n",
        "    dominant_eigval = np.abs(eigval).max()\r\n",
        "    PageRank= np.where(eigval == dominant_eigval)\r\n",
        "    print(\"The most important node is %s\"% str(pages[PageRank[0][0]]))\r\n",
        "    \r\n",
        "linkmatrix = np.matrix([[0,0,1,0.5],\r\n",
        "                      [1.0/3,0,0,0],\r\n",
        "                      [1.0/3,0,0.5,0.5],\r\n",
        "                      [1.0/3,0,0.5,0]])\r\n",
        "findPageRank(linkmatrix,pages)"
      ],
      "execution_count": 5,
      "outputs": [
        {
          "output_type": "stream",
          "text": [
            "The most important node is 2\n"
          ],
          "name": "stdout"
        }
      ]
    },
    {
      "cell_type": "markdown",
      "metadata": {
        "id": "CxphPj00be-I"
      },
      "source": [
        "Now, let try finding the most important location in Altgeld. Input your data into the  8×8  matrix below.\r\n",
        "\r\n"
      ]
    },
    {
      "cell_type": "code",
      "metadata": {
        "colab": {
          "base_uri": "https://localhost:8080/",
          "height": 458
        },
        "id": "03dUP_btbiK4",
        "outputId": "1970e973-0a96-4ce8-b6cf-d633a35c98d1"
      },
      "source": [
        "G_Altgeld=nx.DiGraph()\r\n",
        "locations = [\"Office 366\",\"Bottom of Spiral\",\"Soda Machine\",\"Office 326\",\r\n",
        "                  \"Post Office\",\"Library\",\"Wall Across Room 441\",\"Room 239\"]\r\n",
        "G.add_nodes_from(locations)\r\n",
        "G_Altgeld.add_edges_from([('Office 366','Wall Across Room 441'),\r\n",
        "                         ('Bottom of Spiral','Office 366'),('Bottom of Spiral','Soda Machine'),\r\n",
        "                         ('Soda Machine','Room 239'),\r\n",
        "                         ('Office 326','Soda Machine'),('Office 326','Bottom of Spiral'),('Office 326','Wall Across Room 441'),\r\n",
        "                         ('Post Office','Bottom of Spiral'),('Post Office','Library'),\r\n",
        "                         ('Library','Soda Machine'),('Library','Wall Across Room 441'),\r\n",
        "                         ('Wall Across Room 441','Post Office'),('Wall Across Room 441','Room 239'),\r\n",
        "                         ('Room 239', 'Office 366'),('Room 239','Bottom of Spiral'),('Room 239','Office 326')])\r\n",
        "i = 0\r\n",
        "for name in locations:\r\n",
        "    i = i+1\r\n",
        "    print([\"%d:%s = %s\"% (i,name,str(len(G_Altgeld.out_edges(name))))])\r\n",
        "\r\n",
        "color_map = []\r\n",
        "for node in G_Altgeld:\r\n",
        "    if node == 'Office 366':\r\n",
        "        color_map.append('yellow')\r\n",
        "    else: \r\n",
        "        color_map.append('green')    \r\n",
        "                \r\n",
        "nx.draw_circular(G_Altgeld,node_color=color_map, with_labels = True)\r\n",
        "plt.show() # display"
      ],
      "execution_count": 11,
      "outputs": [
        {
          "output_type": "stream",
          "text": [
            "['1:Office 366 = 1']\n",
            "['2:Bottom of Spiral = 2']\n",
            "['3:Soda Machine = 1']\n",
            "['4:Office 326 = 3']\n",
            "['5:Post Office = 2']\n",
            "['6:Library = 2']\n",
            "['7:Wall Across Room 441 = 2']\n",
            "['8:Room 239 = 3']\n"
          ],
          "name": "stdout"
        },
        {
          "output_type": "display_data",
          "data": {
            "image/png": "[encoded data removed]",
            "text/plain": [
              "<Figure size 432x288 with 1 Axes>"
            ]
          },
          "metadata": {
            "tags": []
          }
        }
      ]
    },
    {
      "cell_type": "markdown",
      "metadata": {
        "id": "BoDGK7GYfCtJ"
      },
      "source": [
        "Compute the Link Matrix for the Altgeld graph. Use the matrix below to input your data. What location is the most important?\r\n",
        "\r\n"
      ]
    },
    {
      "cell_type": "code",
      "metadata": {
        "colab": {
          "base_uri": "https://localhost:8080/"
        },
        "id": "TDfz8fibfApB",
        "outputId": "9932ec94-93ea-4d93-d736-6ef4cef23aae"
      },
      "source": [
        "linkmatrix_Altgeld = np.matrix([[0,0,0,0,0,0,0,0],\r\n",
        "                               [0,0,0,0,0,0,0,0],\r\n",
        "                               [0,0,0,0,0,0,0,0],\r\n",
        "                               [0,0,0,0,0,0,0,0],\r\n",
        "                               [0,0,0,0,0,0,0,0],\r\n",
        "                               [0,0,0,0,0,0,0,0],\r\n",
        "                               [0,0,0,0,0,0,0,0],\r\n",
        "                               [0,0,0,0,0,0,0,0]])\r\n",
        "findPageRank(linkmatrix_Altgeld,locations)"
      ],
      "execution_count": 12,
      "outputs": [
        {
          "output_type": "stream",
          "text": [
            "The most important node is Office 366\n"
          ],
          "name": "stdout"
        }
      ]
    }
  ]
}