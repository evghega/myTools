{
 "cells": [
  {
   "cell_type": "code",
   "execution_count": null,
   "metadata": {},
   "outputs": [],
   "source": [
    "#pip install --upgrade ipykernel ipython"
   ]
  },
  {
   "cell_type": "code",
   "execution_count": null,
   "metadata": {},
   "outputs": [],
   "source": [
    "#pip install twint"
   ]
  },
  {
   "cell_type": "code",
   "execution_count": null,
   "metadata": {},
   "outputs": [],
   "source": [
    "#pip install nest_asyncio"
   ]
  },
  {
   "cell_type": "code",
   "execution_count": null,
   "metadata": {},
   "outputs": [],
   "source": [
    "#conda install git"
   ]
  },
  {
   "cell_type": "code",
   "execution_count": null,
   "metadata": {},
   "outputs": [],
   "source": [
    "#pip install --upgrade -e git+https://github.com/twintproject/twint.git@origin/master#egg=twint"
   ]
  },
  {
   "cell_type": "code",
   "execution_count": 1,
   "metadata": {},
   "outputs": [],
   "source": [
    "import nest_asyncio\n",
    "nest_asyncio.apply()"
   ]
  },
  {
   "cell_type": "code",
   "execution_count": 6,
   "metadata": {},
   "outputs": [],
   "source": [
    "import twint\n",
    "#https://github.com/twintproject/twint/wiki\n",
    "a = twint.Config()\n",
    "a.Username = 'YairNetanyahu'\n",
    "a.Limit = 10\n",
    "#a.Since = \"2020-02-01\"\n",
    "a.Store_csv = True\n",
    "a.Output =a.Username+\".csv\"\n",
    "a.Lang=\"he\"\n",
    "\n",
    "\n",
    "#a.Search = \"from:@santi_ABASCAL vox\"\n",
    "\n",
    "#a.User_full = True\n",
    "#a.Pandas = True"
   ]
  },
  {
   "cell_type": "code",
   "execution_count": 11,
   "metadata": {},
   "outputs": [],
   "source": []
  },
  {
   "cell_type": "code",
   "execution_count": 9,
   "metadata": {},
   "outputs": [
    {
     "name": "stdout",
     "output_type": "stream",
     "text": [
      "1331233832834641921 2020-11-24 15:50:53 +0200 <YairNetanyahu> 👏🏼👏🏼👏🏼👏🏼🤣🤣🤣🤣\n",
      "1331216976560189440 2020-11-24 14:43:54 +0200 <YairNetanyahu>  https://t.co/pyGora0Cco\n",
      "1331214831928680449 2020-11-24 14:35:23 +0200 <YairNetanyahu> כנ״ל. במקום  הסדרה המטופשת הזאת, מציע בחום לכולם לראות את ROME של HBO\n",
      "1331214319246336000 2020-11-24 14:33:21 +0200 <YairNetanyahu> נו בנט מסמן באותות ובמופתים שהוא הולך להקים ממשלת אחדות עם האח יאיר לפיד, גם אם לגוש הימין יהיה 61 מנדטים להקים ממשלת ימין בלבד! מה אתם עוד רוצים שהוא יגיד?!  https://t.co/OJSO5boyIg\n",
      "1331199048045432833 2020-11-24 13:32:40 +0200 <YairNetanyahu> @YairGolan1  https://t.co/UphCaNEYqn\n",
      "1331188993560555520 2020-11-24 12:52:43 +0200 <YairNetanyahu> סדרה בזויה והזויה\n",
      "1331187034564780032 2020-11-24 12:44:55 +0200 <YairNetanyahu> Beautiful Jerusalem 🇮🇱  https://t.co/8KXjZLRzl2\n",
      "1331185631846920192 2020-11-24 12:39:21 +0200 <YairNetanyahu> @COLRICHARDKEMP @netanyahu @HSajwanization\n",
      "1331170528028188673 2020-11-24 11:39:20 +0200 <YairNetanyahu> איזה כיף להגיד *הנאשם* גונן בן יצחק!  https://t.co/63HbT6Wvkd\n",
      "1331157940162715648 2020-11-24 10:49:19 +0200 <YairNetanyahu> חחח\n",
      "1331150599354769409 2020-11-24 10:20:09 +0200 <YairNetanyahu> 🇮🇱🇧🇭\n",
      "1331128998127161344 2020-11-24 08:54:18 +0200 <YairNetanyahu> 🔥🔥🔥🔥\n",
      "1330944452207185932 2020-11-23 20:40:59 +0200 <YairNetanyahu> 🎯🎯🎯🎯🎯🎯🎯\n",
      "1330940061312032780 2020-11-23 20:23:32 +0200 <YairNetanyahu>  https://t.co/AOsONqT1G0\n",
      "1330930247731204098 2020-11-23 19:44:33 +0200 <YairNetanyahu> פסיכופט דמנטי חובב פדופלים\n",
      "1330778264890126336 2020-11-23 09:40:37 +0200 <YairNetanyahu> במקום תוכניות הבוקר המפגרות של ערוצים 12-13, כולם עוברים לצפות בבוקר ב @arutz20  שמשדר בלייב את תוכניות הבוקר הסופר מעניינות של @IsraelGaley !  https://t.co/wEYDnecr1e\n",
      "1330775009095266304 2020-11-23 09:27:41 +0200 <YairNetanyahu> 👀\n",
      "1330767052177633280 2020-11-23 08:56:04 +0200 <YairNetanyahu> Follow me on Telegram for updates without censorship!   https://t.co/GYeTb7EWSx  עקבו אחרי בטלגרם לעדכונים ללא צנזורה!  https://t.co/mzS7DsSpX5\n",
      "1330600664012034048 2020-11-22 21:54:54 +0200 <YairNetanyahu> חחח\n",
      "1330600569816363010 2020-11-22 21:54:31 +0200 <YairNetanyahu> ביבי נכשל בקורונה! 🦠  https://t.co/gX9iXJFyMe\n",
      "1330548939796459521 2020-11-22 18:29:22 +0200 <YairNetanyahu> &gt;&gt; המדינית, כלכלית, חברתית, בהגות ציונית-יהודית, ליברלית, ושמרנית. בנוסף במפגשים מתקיימים דיוניים ופעילויות קבוצתיות שונות.   https://t.co/ALSoxZgAkH\n",
      "1330548937892253697 2020-11-22 18:29:21 +0200 <YairNetanyahu> חזון לאומי מכשיר את מנהיגי הציבור של מדינת ישראל התוכנית למנהיגות ציבורית 2021 יוצאת לדרך  בתוכנית מפגשים שבועיים המתפרסים על שנת הלימודים האקדמית, מפגשים אינטימיים עם דמויות ממרכז העשייה הציבורית בישראל ומרצים מובילים. במפגשים הרצאות שעוסקות בבירור ערכי היסוד של המחשבה&gt;&gt;  https://t.co/Th4u7pRae0\n",
      "1330523803152211979 2020-11-22 16:49:29 +0200 <YairNetanyahu> חחחח\n",
      "1330522850919387137 2020-11-22 16:45:42 +0200 <YairNetanyahu>  https://t.co/cfsiLso9gA\n",
      "1330522363474178051 2020-11-22 16:43:46 +0200 <YairNetanyahu>  https://t.co/jhtYDXR3NO\n",
      "1330514159411326977 2020-11-22 16:11:10 +0200 <YairNetanyahu> וואו\n",
      "1330494318575017986 2020-11-22 14:52:19 +0200 <YairNetanyahu> 👀\n",
      "1330452227245355010 2020-11-22 12:05:04 +0200 <YairNetanyahu> It’s amazing how in 2020 conservatives are the ones who fight for liberty while “liberals” fight for totalitarianism.\n",
      "1330447254465998849 2020-11-22 11:45:18 +0200 <YairNetanyahu> 👏🏼👏🏼👏🏼👏🏼👏🏼🇮🇱❤️🇭🇺\n",
      "1330413980838473728 2020-11-22 09:33:05 +0200 <YairNetanyahu> 🚨🚨🚨🚨🚨\n",
      "1330210378018680832 2020-11-21 20:04:02 +0200 <YairNetanyahu> נכון מאוד! תודה ליאורה על התמיכה והתיאור המדויק של הדברים!\n",
      "1330200049511526401 2020-11-21 19:23:00 +0200 <YairNetanyahu> &gt;&gt;&gt; פחות מ500 מטר מביתו הפרטי של נבחר ציבור). המשטרה: מותר להם וכל הכבוד להם.\n",
      "1330200046806167555 2020-11-21 19:22:59 +0200 <YairNetanyahu> שחקן הכדורגל ערן זהבי, שם פעם אחת מוזיקה מזרחית ברמקול אצלו בבית באמצע היום-המשטרה באו אליו הביתה, ועצרו אותו בצורה משפילה לעיני ילדיו.  משפחת פארקש מארחת בביתה הפגנה כל מוצש, בה אנרכיסטים צורחים ברמקול קללות לעבר השכן, האח השכול בנימין נתניהו (בניגוד לחוק שאומר שאסור להפגין &gt;&gt;\n",
      "1330183634146512897 2020-11-21 18:17:46 +0200 <YairNetanyahu> וכן הגשתי עליהן כמה פעמים תלונות במשטרה לא רק פעם אחת.\n",
      "1330182736309596161 2020-11-21 18:14:12 +0200 <YairNetanyahu> זוכרים שהזמר אפריים שמיר כתב שצריך לרצוח את ראש הממשלה, אמא שלי ואותי? זוכרים שכתב המשטרה בוקי נאה כתב שצריך לדקור אותי בסכין? עד היום נורית ליטמן ומנדלבליט מהפרקליטות מסרבים אפילו לזמן אותם לחקירה למראית עין.\n",
      "1330165048237551619 2020-11-21 17:03:55 +0200 <YairNetanyahu> שימו לב לגזענות החבויה בדברים שנשא אתמול מחוץ בית ראש הממשלה, אחד מהמממנים והמארגנים הראשיים של ״הפגנות״ השמאל בבלפור בחודשים האחרונים. לימנים בפריפריה אין ערכים. רק למליונרים השמאלנים של צפון ת״א יש ערכים.  https://t.co/f3YimlvBlm\n",
      "1330145689448411141 2020-11-21 15:46:59 +0200 <YairNetanyahu> זוכרים שאחד מראשי הפגנות השמאל, חיים שדמי, קרא לרצוח את הבן של האח השכול בנימין נתניהו, והתקשורת פיהקה? דרך אגב עד היום לא הוגש נגדו כתב אישום.  https://t.co/WAqVnkNbig\n",
      "1330140984936632329 2020-11-21 15:28:18 +0200 <YairNetanyahu> 👏🏼👏🏼👏🏼👏🏼🇺🇸🇺🇸🇺🇸🇺🇸🇺🇸🇮🇱🇮🇱🇮🇱❤️❤️❤️❤️❤️🎯🎯🎯🎯  https://t.co/IoQCLL7iAW\n",
      "1330138640731795456 2020-11-21 15:18:59 +0200 <YairNetanyahu> @HauserTov @YaaraZered אין זמן זה רק שעה. וספורט אני לא מבין כלום חחח\n",
      "1330136194542395392 2020-11-21 15:09:16 +0200 <YairNetanyahu> אם אתם מאיזינים לתוכנית רדיו השבועית שלי ושל @YaaraZered אשמח לטיפים לשיפור/שימור.  https://t.co/Hoad65yj8u\n",
      "1330087500371685376 2020-11-21 11:55:46 +0200 <YairNetanyahu> 👀\n",
      "1329812088085221379 2020-11-20 17:41:23 +0200 <YairNetanyahu> @SecPompeo @IsraeliPM @netanyahu Thank you!!!!🇮🇱🇺🇸❤️\n",
      "1329812067105329153 2020-11-20 17:41:18 +0200 <YairNetanyahu> Thank you!!!!🇮🇱🇺🇸❤️\n",
      "1329753726366707717 2020-11-20 13:49:28 +0200 <YairNetanyahu> מזמין אתכם לצפות ולשתף את התוכנית השבועית ברדיו גלי ישראל  https://t.co/BquZYQsXtV\n",
      "1329730411665252353 2020-11-20 12:16:49 +0200 <YairNetanyahu> אני רוצה להמליץ בחום על הפודקאסט ״על המשמעות״. פודקאסט שמרני אינטלקטואלי מרתק! זמין בספוטיפיי, אפל פודקאסט, יוטיוב ועוד.  https://t.co/AqccPiM7u5\n",
      "1329715923549384705 2020-11-20 11:19:15 +0200 <YairNetanyahu> @arik3000 @Riklin10 @GadiTaub1 🎯\n",
      "1329710609005490176 2020-11-20 10:58:08 +0200 <YairNetanyahu> @haggai_segal אתה לא חושב שלמען האחדות בעם ואיחוי הקרעים הוא צריך לוותר, ולתת לזהבה גלאון את התפקיד? יש פה את עניין אחדות העם, זה חשוב יותר מהאיש.\n",
      "1329693129214226432 2020-11-20 09:48:41 +0200 <YairNetanyahu> @FCDONeilWigan &gt;&gt; fund pro / anti brexit NGOs? Or maybe ones who’s calling for Falkland Islands to be handed over to Argentina?  https://t.co/MVrgB7M29o\n",
      "1329692867573522432 2020-11-20 09:47:38 +0200 <YairNetanyahu> @FCDONeilWigan Dear mr  ambassador thank you for your response. Please take a note of this document. How would you feel if the Israeli government would have finance NGOs in the UK calling for independence for Scotland, Wales, or reunification of Ireland? How would you feel if we would &gt;&gt;\n",
      "1329482566399905797 2020-11-19 19:51:59 +0200 <YairNetanyahu> @FCDONeilWigan Great! Now please stop funding radical NGOs in Israel,  interfering in our internal affairs, and stop treating us like  we’re still your colony.  https://t.co/MVrgB7M29o\n",
      "1329480402088685569 2020-11-19 19:43:23 +0200 <YairNetanyahu> @Ahmad_tibi וואלה התפתעת. אבל אם כבר אנחנו בנושא, אני חייב לשמוע את דעתך על המופתי חאג׳ אמין אל חוסייני. נשבע לך שאני שואל בהתעניינות וברצינות ובכבוד, לא בתור התרסה.\n",
      "1329456364565966849 2020-11-19 18:07:52 +0200 <YairNetanyahu> אתם קולטים שערוץ החדשות הגדול באמריקה,  FOX NEWS, שידרו בשידור ישיר את מסיבת העיתונאים אתמול של נתניהו, פומפאו ושר החוץ של בחריין, וערוצי אלג׳זירה 12, 13 התעלמו?!  https://t.co/SukKZH6Ind\n",
      "1329452160422207491 2020-11-19 17:51:09 +0200 <YairNetanyahu> @noa_landau החלטתי לענות לכם השמאלנים מעכשיו  תמיד בסיומת לך/ לכי\n",
      "1329451768095313922 2020-11-19 17:49:36 +0200 <YairNetanyahu> יאללה הימורים, מי זה באמת הבוט ״יעל לוי״? בנט או שקד?  https://t.co/5ooiVoCYbO\n",
      "1329445439431708677 2020-11-19 17:24:27 +0200 <YairNetanyahu> מרגש  https://t.co/8sCNngczUt\n",
      "1329423443276795908 2020-11-19 15:57:03 +0200 <YairNetanyahu> @noa_landau חוץ מהאח השכול נתניהו במשך חצי שנה . לכי\n",
      "1329413719114309633 2020-11-19 15:18:24 +0200 <YairNetanyahu> @Mot_Tal @idoshiponi1 @AdvHimi\n",
      "1329410201087258625 2020-11-19 15:04:25 +0200 <YairNetanyahu> 🇮🇱❤️🇺🇸👏🏼\n",
      "1329407013261090816 2020-11-19 14:51:45 +0200 <YairNetanyahu> @GadiTaub1 @hgkkuh גדי אתה מודע לזה שיעל לוי זה בוט עם תמונת פרופיל מתוך קטלוג של בגדי נשים דתיות?\n",
      "1329389813762547712 2020-11-19 13:43:25 +0200 <YairNetanyahu> @dansiryoti @IsraelHayomHeb @michalaharoni10 שפורסם שבקלפי דמה שהוצבה במערכת ישראל היום בבחירות 2015, רוב הקולות של העובדים הלכו למרצ, אחכ המחנה הציוני, ורק בודדים לליכוד, לא הבנתי איך זה יכול להיות. אתה ושכמותך מוכיחים לי כל פעם מחדש שהנה יכול להיות.\n",
      "1329387249834876928 2020-11-19 13:33:13 +0200 <YairNetanyahu> @IsraelHayomHeb @michalaharoni10 @IsraelHayomHeb תנו כבר לחיים שדמי לכתוב אצלכם טור קבוע, אתם גם ככה 3/4 דרך להיות ידיעות אחרונות.\n",
      "1329386192803082242 2020-11-19 13:29:01 +0200 <YairNetanyahu> @YinonMagal ותאמין לי זה ה״נאום״ הכי מתון ששמעתי מהחלאות שם\n",
      "1329385646847369216 2020-11-19 13:26:51 +0200 <YairNetanyahu> @YinonMagal את הקטעים שמלכלכים על יוני הורידו מהעמוד פייסבוק הפחדנים\n",
      "1329381691308314627 2020-11-19 13:11:08 +0200 <YairNetanyahu> @kareraas @IsraelMFA @DrDoreGold  https://t.co/P23RsKJIOb\n",
      "1329379315226718210 2020-11-19 13:01:42 +0200 <YairNetanyahu> @kareraas @IsraelMFA @DrDoreGold Thank you. Please save your money to yourself, stop funding radical left wing anarchist NGOs in Israel, stop interfering in our internal business, and use that money to help the needed in Norway.\n",
      "1329360711189991424 2020-11-19 11:47:46 +0200 <YairNetanyahu> @elirazsade דמו הותר כבר ע״י התקשורת לפני 30 שנה\n",
      "1329357091346259969 2020-11-19 11:33:23 +0200 <YairNetanyahu> @elirazsade אם מותר להגיד נגדו הכל, למרות שהוא אח שכול, מותר גם עם פרקש. ואם אסור עם פרקש, אסור גם איתו! מה זה האיפה ואיפה הזאת בשכול?!\n",
      "1329356830489899011 2020-11-19 11:32:21 +0200 <YairNetanyahu> @elirazsade זה שהוא בחר להכנס לפוליטיקה ועוד לא להתהפך ולפנות ישובים, לא אומר שדמו מותר!\n",
      "1329354486310113280 2020-11-19 11:23:02 +0200 <YairNetanyahu> @elirazsade אה ועל אח שכול (בנימין נתניהו) אפשר לירוק ולבזות נכון? כולל אותו משפחת פארקש שמארחת אנרכיסטים על הגג שצועקים לו במגפון; ביבי יוני היה מתבייש בך!\n",
      "1329353175443386368 2020-11-19 11:17:49 +0200 <YairNetanyahu> 🎯🎯🎯🎯🎯\n",
      "1329351771295264768 2020-11-19 11:12:15 +0200 <YairNetanyahu> @avribloch ידידת ישראל הגדולה *\n",
      "1329351031726223360 2020-11-19 11:09:18 +0200 <YairNetanyahu> @avribloch גרמניה פועלת נגדנו במישור הדיפלומטי באופן עוין פחות רק מאירן, וכל השמאל אוהב אותה ומחבק אותה בתור ידידת השמאל הגדולה\n",
      "1329348528737542144 2020-11-19 10:59:22 +0200 <YairNetanyahu> @avribloch אתה מודע לזה שגרמניה מצביעה שם תמיד נגדנו והנורמליזציה שלנו איתם קרתה בשנות ה50?\n",
      "1329346587789840385 2020-11-19 10:51:39 +0200 <YairNetanyahu> אפשר כבר להפסיק עם הספין העלוב הזה שראש הממשלה משתף איתו פעולה?!??  https://t.co/0gJrJS91Gk\n",
      "1329344581830316035 2020-11-19 10:43:40 +0200 <YairNetanyahu> Wow\n",
      "1329343107373162498 2020-11-19 10:37:49 +0200 <YairNetanyahu> @SecPompeo @City_of_David 🇺🇸👏🏼❤️🇮🇱\n",
      "1329340911185240067 2020-11-19 10:29:05 +0200 <YairNetanyahu> טירוף!!!!! 🚨🚨🚨🚨\n",
      "1329338760652345346 2020-11-19 10:20:33 +0200 <YairNetanyahu> @benirabin שלא יהיה ספק. את הרעל שאתה שופך פה כל יום אתה לא מאמין בו. אתה סופג מאדוניך בבראנז׳ה, ופולט אותו כדי לקבל מהם ליטוף ואישרור שאתה ״נאור״. 🤮🤮🤮🤮\n",
      "1329332189222363141 2020-11-19 09:54:26 +0200 <YairNetanyahu> חחחח\n",
      "1329331980564123649 2020-11-19 09:53:36 +0200 <YairNetanyahu> @BarakRavid אה ודרך אגב היא סיימה את תפקידה במשרד ראש הממשלה וכעת היא שבה לתפקידה הקודם בתור מרצה באוניברסיטה העברית. אתה מציע לסתום למרצים את הפה?\n",
      "1329327092501241858 2020-11-19 09:34:11 +0200 <YairNetanyahu> @BarakRavid כל * מילה * בסלע!\n",
      "1329326630469324801 2020-11-19 09:32:21 +0200 <YairNetanyahu> @YinonMagal הדבר הזה ספציפית היה נורא. אורלי לב *לא מכירה* את אותו אדם, ולא שמעה זאת בהפגנה. ההפגנה עצמה היא סופר דופר לגיטימית. המשפחה הזאת עושה כל שבוע הפגנה אצלה בבית עם אנרכיסטים שמקללים ברמקול את האח השכול בנימין נתניהו ומדברים גם על ;יוני היה מתבייש בך.\n",
      "1329321758806126592 2020-11-19 09:12:59 +0200 <YairNetanyahu> The first ever visit of the Foreign Minister of the kingdom of Bahrain to Jerusalem, Israel! Marhaba! 🇺🇸🇮🇱🇧🇭 ביקור ראשון אי פעם של שר החוץ של ממלכת בחריין בירושלים, ישראל! @secpompeo  https://t.co/pRNp5jtJsz\n",
      "1329318428411383808 2020-11-19 08:59:45 +0200 <YairNetanyahu>  https://t.co/ou8vQrN0A0\n",
      "1329317202315636736 2020-11-19 08:54:53 +0200 <YairNetanyahu> וואו\n",
      "1329314811742736384 2020-11-19 08:45:23 +0200 <YairNetanyahu> 🎯🎯🎯🎯\n",
      "1329313686041800704 2020-11-19 08:40:54 +0200 <YairNetanyahu> 🎯🎯🎯\n",
      "1329153881125875713 2020-11-18 22:05:54 +0200 <YairNetanyahu> 🎯🎯🎯🎯🎯🎯🎯🎯🔥🔥🔥🔥🔥🔥🔥🔥🔥🔥🔥\n",
      "1329152066510581771 2020-11-18 21:58:41 +0200 <YairNetanyahu> @levyguy77 גיא תעלה דחוף לפה את הפוסט והווידאו שהעלת בפייסבוק\n",
      "1329151188621783046 2020-11-18 21:55:12 +0200 <YairNetanyahu> האם ישאלו מחר בתקשורת אחד אחד את חברי הכנסת של השמאל, האם הם מתנצלים? זה מהערב. ולכל המתייפיפים מהמחנה שלנו- לכו קיבינט.\n",
      "1329138454719062017 2020-11-18 21:04:36 +0200 <YairNetanyahu> History in the making! 🇮🇱❤️🇧🇭\n",
      "1329110237605978114 2020-11-18 19:12:28 +0200 <YairNetanyahu> בדיוק!!!!!!!\n",
      "1329105671711838208 2020-11-18 18:54:20 +0200 <YairNetanyahu> @RahavRan בנימין נתניהו אח שכול והחברים השמאלנים שלך, רודפים אותו, מממררים את חיוו, יורקים עליו, שותים את דמו בקשית כבר 30 פאקינג שנה\n",
      "1329104851167563776 2020-11-18 18:51:04 +0200 <YairNetanyahu>  https://t.co/72WfHdn3fG\n",
      "1329103785768136704 2020-11-18 18:46:50 +0200 <YairNetanyahu> @RahavRan מקללים את האח השכול בנימין נתניהו 30 שנה! מבזים את זכרו של יוני בראש חוצות בכותרות העיתונים של השמאל , לא איזה אלמוני שצועק משהו, וזה לא עניין לך את קצה הזרת פעם אחת. יאללה יאללה  https://t.co/mp69dng2vJ\n",
      "1329103140080283649 2020-11-18 18:44:16 +0200 <YairNetanyahu> והנה ישי הדס, מראשי ״קריים מיניסטר״ מבזה את זכר יוני נתניהו ואת אחיו השכול בנימין נתניהו  https://t.co/Lt0bFRylcI\n",
      "1329102635924934657 2020-11-18 18:42:16 +0200 <YairNetanyahu> @yaircherki אה סליחה שאתה מקלל אותי, יורק עלי, ואני לא שולח לך פרחים ולבבות\n",
      "1329099434249105408 2020-11-18 18:29:33 +0200 <YairNetanyahu> @Avrahambach @yaircherki דתי כמו מנדלבליט\n",
      "1329098842843844612 2020-11-18 18:27:12 +0200 <YairNetanyahu> @ivri99 בהגדרה במילון למושג ״עבד של השמאל״ אפשר לשים תמונה של בנט עם קולר\n",
      "1329097792317427719 2020-11-18 18:23:01 +0200 <YairNetanyahu> וואו!!!!\n"
     ]
    }
   ],
   "source": [
    "twint.run.Search(a)"
   ]
  },
  {
   "cell_type": "code",
   "execution_count": null,
   "metadata": {},
   "outputs": [],
   "source": []
  }
 ],
 "metadata": {
  "kernelspec": {
   "display_name": "Python 3",
   "language": "python",
   "name": "python3"
  },
  "language_info": {
   "codemirror_mode": {
    "name": "ipython",
    "version": 3
   },
   "file_extension": ".py",
   "mimetype": "text/x-python",
   "name": "python",
   "nbconvert_exporter": "python",
   "pygments_lexer": "ipython3",
   "version": "3.7.7"
  }
 },
 "nbformat": 4,
 "nbformat_minor": 4
}
